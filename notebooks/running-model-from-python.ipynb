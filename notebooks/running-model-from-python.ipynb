{
 "cells": [
  {
   "cell_type": "markdown",
   "metadata": {},
   "source": [
    "# A Naive Bayes classifier"
   ]
  },
  {
   "cell_type": "markdown",
   "metadata": {},
   "source": [
    "## Introduction\n",
    "\n",
    "In this notebook, we will create a *probabilistic graphical model* (PGM) that classifies data vector $\\mathbb{x}$ into two classes $y \\in \\{0,1\\}$. We will use a *generative* approach and assume that the features are *conditionally independent* given the class label. This allows us to write the class conditional density as a product of one dimensional densities: $p(\\mathbb{x}|y=c,\\mathbb{\\theta}) = \\prod_{j=1}^{D} p(x_{j}|y=c,\\mathbb{\\theta_{j,c}})$, where $D$ is the number of features. This is more commonly referred to as a *Naive Bayes classifier*. The model is \"naive\", since we assume that the features $\\mathbb{x}$ are independent. \n",
    "\n",
    "These models typically have a small number of parameters in the order $O(CD)$, where $C$ is the number of classes, which can make them robust against overfitting, and computationally easier to deal with. Features can be discrete-valued, real-valued, or both. \n",
    "\n",
    "In our example, we will use real-valued features and use Gaussian distributions, $p(\\mathbb{x}|y=c,\\mathbb{\\theta}) = \\prod_{j=1}^{D}\\mathcal{N}(x_{j}|\\mu_{j,c},\\sigma_{j,c}^{2})$, where $\\mu_{j,c}$ is the mean of feature $j$ in components of class $c$, and $\\sigma_{j,c}^{2}$ is its variance. \n",
    "\n",
    "Another way to think about this approach is that it breaks down the task of classification into a number of smaller sub-tasks, where each are dealt with by a separate model. The rationale behind this is that it may be effective to build a single model to interpret a single feature for the task. Each model gives a posterior probability for the classes and can be combined using rules of probability. Conversely, the entire input vector would be used by one model for classification and may share information among features for the task.\n",
    "\n",
    "Please see resources below for more information:\n",
    "\n",
    "- Bishop, Christopher M. Pattern recognition and machine learning. springer, 2006.\n",
    "- Murphy, Kevin P. Machine learning: a probabilistic perspective. MIT press, 2012.\n",
    "\n",
    "\n",
    "\n",
    "\n",
    "\n"
   ]
  },
  {
   "source": [
    "### Setup"
   ],
   "cell_type": "markdown",
   "metadata": {}
  },
  {
   "cell_type": "code",
   "execution_count": null,
   "metadata": {
    "ExecuteTime": {
     "end_time": "2021-02-03T07:01:33.041603Z",
     "start_time": "2021-02-03T07:01:31.630668Z"
    }
   },
   "outputs": [],
   "source": [
    "import os\n",
    "import pandas as pd\n",
    "import numpy as np\n",
    "from pathlib import Path\n",
    "import matplotlib.pyplot as plt\n",
    "from scipy.stats import multivariate_normal"
   ]
  },
  {
   "cell_type": "markdown",
   "metadata": {},
   "source": [
    "### Config"
   ]
  },
  {
   "cell_type": "code",
   "execution_count": null,
   "metadata": {
    "ExecuteTime": {
     "end_time": "2021-02-03T07:01:33.046556Z",
     "start_time": "2021-02-03T07:01:33.043812Z"
    }
   },
   "outputs": [],
   "source": [
    "model_dir = Path('../models/model/')\n",
    "data_dir = Path('../data/')"
   ]
  },
  {
   "source": [
    "### Generate data"
   ],
   "cell_type": "markdown",
   "metadata": {}
  },
  {
   "cell_type": "code",
   "execution_count": null,
   "metadata": {},
   "outputs": [],
   "source": [
    "def sample_component(component, means, covars):\n",
    "    if component == 0:\n",
    "        return np.random.multivariate_normal(means[0], covars[0], 1).T   \n",
    "    if component == 1:\n",
    "        return np.random.multivariate_normal(means[1], covars[1], 1).T"
   ]
  },
  {
   "cell_type": "code",
   "execution_count": null,
   "metadata": {},
   "outputs": [],
   "source": [
    "# specify class distributions\n",
    "class0_weight = 0.5\n",
    "class1_weight = 0.5\n",
    "\n",
    "class0_means = np.array([5, 5])\n",
    "class1_means = np.array([3, 7])\n",
    "\n",
    "class0_covar = np.array([[1, 0],\n",
    "                         [0, 1]])\n",
    "class1_covar = np.array([[1, 0],\n",
    "                         [0, 1]])"
   ]
  },
  {
   "cell_type": "code",
   "execution_count": null,
   "metadata": {},
   "outputs": [],
   "source": [
    "N = 100\n",
    "\n",
    "means = [class0_means, class1_means]\n",
    "covars = [class0_covar, class1_covar]\n",
    "    \n",
    "mask = np.random.choice([0, 1], N, p=[class0_weight, class1_weight])\n",
    "data = [sample_component(i, means, covars) for i in mask]\n",
    "data = np.array(data).reshape(N, 2)\n",
    "df_data = pd.DataFrame(data, columns=['x0', 'x1'])\n",
    "df_data['class'] = mask\n",
    "\n",
    "# store dataset\n",
    "df_data.to_csv(data_dir/'data.csv', sep='|', header=False, index=False)"
   ]
  },
  {
   "cell_type": "code",
   "execution_count": null,
   "metadata": {},
   "outputs": [],
   "source": [
    "# peak of our data set\n",
    "# plt.scatter(df_data['x0'],\n",
    "#             df_data['x1'],\n",
    "#             c=df_data['comp'])\n",
    "# plt.title(\"Data\")\n",
    "# plt.xlabel(r\"$x_0$\")\n",
    "# plt.ylabel(r\"$x_1$\")\n",
    "# plt.grid()\n",
    "# plt.show()"
   ]
  },
  {
   "cell_type": "markdown",
   "metadata": {},
   "source": [
    "### Running model"
   ]
  },
  {
   "cell_type": "code",
   "execution_count": null,
   "metadata": {
    "ExecuteTime": {
     "end_time": "2021-02-03T07:41:52.616404Z",
     "start_time": "2021-02-03T07:41:52.600583Z"
    }
   },
   "outputs": [],
   "source": [
    "# run c# Infer.NET code\n",
    "cmd = f'dotnet run --project {model_dir} {data_dir}/ data.csv'\n",
    "cmd"
   ]
  },
  {
   "cell_type": "code",
   "execution_count": null,
   "metadata": {
    "ExecuteTime": {
     "end_time": "2021-02-03T07:42:00.891610Z",
     "start_time": "2021-02-03T07:41:52.701522Z"
    }
   },
   "outputs": [],
   "source": [
    "!{cmd}"
   ]
  },
  {
   "cell_type": "markdown",
   "metadata": {},
   "source": [
    "### Results"
   ]
  },
  {
   "cell_type": "code",
   "execution_count": null,
   "metadata": {
    "ExecuteTime": {
     "end_time": "2021-02-03T07:42:04.338500Z",
     "start_time": "2021-02-03T07:42:04.305905Z"
    }
   },
   "outputs": [],
   "source": [
    "# load results from file\n",
    "df_result = pd.read_csv(data_dir/'results.csv', sep='|')\n",
    "\n",
    "meanClass0 = np.array([df_result.loc[0, 'meanPost0'], df_result.loc[0, 'meanPost1']])\n",
    "meanClass1 = np.array([df_result.loc[1, 'meanPost0'], df_result.loc[1, 'meanPost1']])\n",
    "\n",
    "class0Prob = df_result.loc[0, 'classPost']\n",
    "class1Prob = df_result.loc[1, 'classPost']\n",
    "\n",
    "print(\"Class0: \", class0Prob, meanClass0)\n",
    "print(\"Class1: \", class1Prob, meanClass1)"
   ]
  },
  {
   "cell_type": "code",
   "execution_count": null,
   "metadata": {},
   "outputs": [],
   "source": [
    "# visualise results\n",
    "fig, ax = plt.subplots()\n",
    "\n",
    "ax.scatter(df_data[df_data['class'] == 0]['x0'],\n",
    "           df_data[df_data['class'] == 0]['x1'],\n",
    "           color='red',\n",
    "           label='class0',\n",
    "           marker='.',\n",
    "           alpha=0.3)\n",
    "\n",
    "ax.scatter(df_data[df_data['class'] == 1]['x0'],\n",
    "           df_data[df_data['class'] == 1]['x1'],\n",
    "           color='blue',\n",
    "           label='class1',\n",
    "           marker='.',\n",
    "           alpha=0.3)\n",
    "\n",
    "x, y = np.mgrid[-1:10:.2, -1:10:.2]\n",
    "pos = np.dstack((x, y))\n",
    "\n",
    "rv = multivariate_normal(meanClass0, [[1, 0], [0, 1]])\n",
    "ax.contour(x, y, rv.pdf(pos), colors='red', label='class0', alpha=0.7)\n",
    "\n",
    "rv = multivariate_normal(meanClass1, [[1, 0], [0, 1]])\n",
    "ax.contour(x, y, rv.pdf(pos), colors='blue', label='class1', alpha=0.7)\n",
    "\n",
    "ax.set_title(\"Results\")\n",
    "ax.set_xlabel(r\"$x_0$\")\n",
    "ax.set_ylabel(r\"$x_1$\")\n",
    "ax.grid()\n",
    "ax.legend()\n",
    "plt.show()"
   ]
  }
 ],
 "metadata": {
  "kernelspec": {
   "display_name": "Python 3",
   "language": "python",
   "name": "python3"
  },
  "language_info": {
   "codemirror_mode": {
    "name": "ipython",
    "version": 3
   },
   "file_extension": ".py",
   "mimetype": "text/x-python",
   "name": "python",
   "nbconvert_exporter": "python",
   "pygments_lexer": "ipython3",
   "version": "3.7.5-final"
  },
  "toc": {
   "base_numbering": 1,
   "nav_menu": {},
   "number_sections": true,
   "sideBar": true,
   "skip_h1_title": true,
   "title_cell": "Table of Contents",
   "title_sidebar": "Contents",
   "toc_cell": false,
   "toc_position": {},
   "toc_section_display": true,
   "toc_window_display": true
  }
 },
 "nbformat": 4,
 "nbformat_minor": 4
}